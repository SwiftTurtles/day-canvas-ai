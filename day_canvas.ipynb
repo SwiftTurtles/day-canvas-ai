{
  "nbformat": 4,
  "nbformat_minor": 0,
  "metadata": {
    "colab": {
      "provenance": []
    },
    "kernelspec": {
      "name": "python3",
      "display_name": "Python 3"
    },
    "language_info": {
      "name": "python"
    }
  },
  "cells": [
    {
      "cell_type": "markdown",
      "source": [
        "## NLP & Summary"
      ],
      "metadata": {
        "id": "-itHf7Xkf-NI"
      }
    },
    {
      "cell_type": "code",
      "source": [
        "%%bash\n",
        "apt-get update\n",
        "apt-get install g++ openjdk-8-jdk python-dev python3-dev\n",
        "pip3 install JPype1\n",
        "pip3 install konlpy"
      ],
      "metadata": {
        "colab": {
          "base_uri": "https://localhost:8080/"
        },
        "id": "ZJGY_OtWjkKq",
        "outputId": "76be25de-8e99-4204-8236-014b55691e0b"
      },
      "execution_count": null,
      "outputs": [
        {
          "output_type": "stream",
          "name": "stdout",
          "text": [
            "Get:1 https://cloud.r-project.org/bin/linux/ubuntu jammy-cran40/ InRelease [3,626 B]\n",
            "Get:2 http://security.ubuntu.com/ubuntu jammy-security InRelease [110 kB]\n",
            "Get:3 https://developer.download.nvidia.com/compute/cuda/repos/ubuntu2204/x86_64  InRelease [1,581 B]\n",
            "Hit:4 http://archive.ubuntu.com/ubuntu jammy InRelease\n",
            "Get:5 https://developer.download.nvidia.com/compute/cuda/repos/ubuntu2204/x86_64  Packages [633 kB]\n",
            "Get:6 http://archive.ubuntu.com/ubuntu jammy-updates InRelease [119 kB]\n",
            "Get:7 http://security.ubuntu.com/ubuntu jammy-security/restricted amd64 Packages [1,512 kB]\n",
            "Hit:8 https://ppa.launchpadcontent.net/c2d4u.team/c2d4u4.0+/ubuntu jammy InRelease\n",
            "Get:9 http://archive.ubuntu.com/ubuntu jammy-backports InRelease [109 kB]\n",
            "Get:10 https://ppa.launchpadcontent.net/deadsnakes/ppa/ubuntu jammy InRelease [18.1 kB]\n",
            "Get:11 http://security.ubuntu.com/ubuntu jammy-security/main amd64 Packages [1,282 kB]\n",
            "Get:12 http://security.ubuntu.com/ubuntu jammy-security/universe amd64 Packages [1,036 kB]\n",
            "Hit:13 https://ppa.launchpadcontent.net/graphics-drivers/ppa/ubuntu jammy InRelease\n",
            "Get:14 http://archive.ubuntu.com/ubuntu jammy-updates/universe amd64 Packages [1,304 kB]\n",
            "Hit:15 https://ppa.launchpadcontent.net/ubuntugis/ppa/ubuntu jammy InRelease\n",
            "Get:16 https://ppa.launchpadcontent.net/deadsnakes/ppa/ubuntu jammy/main amd64 Packages [28.5 kB]\n",
            "Get:17 http://archive.ubuntu.com/ubuntu jammy-updates/main amd64 Packages [1,576 kB]\n",
            "Get:18 http://archive.ubuntu.com/ubuntu jammy-updates/restricted amd64 Packages [1,572 kB]\n",
            "Get:19 http://archive.ubuntu.com/ubuntu jammy-backports/universe amd64 Packages [32.6 kB]\n",
            "Fetched 9,337 kB in 2s (4,358 kB/s)\n",
            "Reading package lists...\n",
            "Reading package lists...\n",
            "Building dependency tree...\n",
            "Reading state information...\n",
            "Package python-dev is not available, but is referred to by another package.\n",
            "This may mean that the package is missing, has been obsoleted, or\n",
            "is only available from another source\n",
            "However the following packages replace it:\n",
            "  python2-dev python2 python-dev-is-python3\n",
            "\n",
            "Collecting JPype1\n",
            "  Downloading JPype1-1.4.1-cp310-cp310-manylinux_2_12_x86_64.manylinux2010_x86_64.whl (465 kB)\n",
            "     ━━━━━━━━━━━━━━━━━━━━━━━━━━━━━━━━━━━━━━━━ 465.3/465.3 kB 7.2 MB/s eta 0:00:00\n",
            "Requirement already satisfied: packaging in /usr/local/lib/python3.10/dist-packages (from JPype1) (23.2)\n",
            "Installing collected packages: JPype1\n",
            "Successfully installed JPype1-1.4.1\n",
            "Collecting konlpy\n",
            "  Downloading konlpy-0.6.0-py2.py3-none-any.whl (19.4 MB)\n",
            "     ━━━━━━━━━━━━━━━━━━━━━━━━━━━━━━━━━━━━━━━━ 19.4/19.4 MB 57.3 MB/s eta 0:00:00\n",
            "Requirement already satisfied: JPype1>=0.7.0 in /usr/local/lib/python3.10/dist-packages (from konlpy) (1.4.1)\n",
            "Requirement already satisfied: lxml>=4.1.0 in /usr/local/lib/python3.10/dist-packages (from konlpy) (4.9.3)\n",
            "Requirement already satisfied: numpy>=1.6 in /usr/local/lib/python3.10/dist-packages (from konlpy) (1.23.5)\n",
            "Requirement already satisfied: packaging in /usr/local/lib/python3.10/dist-packages (from JPype1>=0.7.0->konlpy) (23.2)\n",
            "Installing collected packages: konlpy\n",
            "Successfully installed konlpy-0.6.0\n"
          ]
        },
        {
          "output_type": "stream",
          "name": "stderr",
          "text": [
            "E: Package 'python-dev' has no installation candidate\n"
          ]
        }
      ]
    },
    {
      "cell_type": "code",
      "source": [
        "%env JAVA_HOME \"/usr/lib/jvm/java-8-openjdk-amd64\""
      ],
      "metadata": {
        "colab": {
          "base_uri": "https://localhost:8080/"
        },
        "id": "FtDbLwoIjmtU",
        "outputId": "ad524b5a-e5e4-4f3e-e852-bd281b5d0e26"
      },
      "execution_count": null,
      "outputs": [
        {
          "output_type": "stream",
          "name": "stdout",
          "text": [
            "env: JAVA_HOME=\"/usr/lib/jvm/java-8-openjdk-amd64\"\n"
          ]
        }
      ]
    },
    {
      "cell_type": "code",
      "source": [
        "!pip install krwordrank"
      ],
      "metadata": {
        "colab": {
          "base_uri": "https://localhost:8080/"
        },
        "id": "GNu9eV5qgC-A",
        "outputId": "01743f89-8be3-4df8-920d-1d09b1cda92b"
      },
      "execution_count": null,
      "outputs": [
        {
          "output_type": "stream",
          "name": "stdout",
          "text": [
            "Requirement already satisfied: krwordrank in /usr/local/lib/python3.10/dist-packages (1.0.3)\n",
            "Requirement already satisfied: numpy>=1.18.4 in /usr/local/lib/python3.10/dist-packages (from krwordrank) (1.23.5)\n",
            "Requirement already satisfied: scipy>=1.4.1 in /usr/local/lib/python3.10/dist-packages (from krwordrank) (1.11.4)\n",
            "Requirement already satisfied: scikit-learn>=0.22.1 in /usr/local/lib/python3.10/dist-packages (from krwordrank) (1.2.2)\n",
            "Requirement already satisfied: joblib>=1.1.1 in /usr/local/lib/python3.10/dist-packages (from scikit-learn>=0.22.1->krwordrank) (1.3.2)\n",
            "Requirement already satisfied: threadpoolctl>=2.0.0 in /usr/local/lib/python3.10/dist-packages (from scikit-learn>=0.22.1->krwordrank) (3.2.0)\n"
          ]
        }
      ]
    },
    {
      "cell_type": "code",
      "source": [
        "from krwordrank.sentence import summarize_with_sentences\n",
        "from konlpy.tag import Kkma\n",
        "\n",
        "kkma = Kkma()\n",
        "\n",
        "texts = kkma.sentences(\"오늘은 여러 가지 활동을 하면서 보낸 하루였다. 아침부터 저녁까지 공부에 많은 시간을 할애했고, 다양한 주제에 대해 공부하면서 새로운 지식을 얻었다. 뿐만 아니라, 하루 내내 비가 내려와서 창밖으로 떨어지는 빗방울 소리를 들으며 편안한 시간을 보낼 수 있었다. 비 오는 날의 여유로움과 함께 하루를 마무리할 때, 새로운 일들에 도전하고 배운 것들을 소중히 여기며 보람 찬 하루를 보낸 것 같다. 오늘은 여러 가지 활동을 하면서 보낸 하루였다. 아침부터 저녁까지 공부에 많은 시간을 할애했고, 다양한 주제에 대해 공부하면서 새로운 지식을 얻었다. 뿐만 아니라, 하루 내내 비가 내려와서 창밖으로 떨어지는 빗방울 소리를 들으며 편안한 시간을 보낼 수 있었다. 비 오는 날의 여유로움과 함께 하루를 마무리할 때, 새로운 일들에 도전하고 배운 것들을 소중히 여기며 보람 찬 하루를 보낸 것 같다.\")\n",
        "keywords, sents = summarize_with_sentences(texts, num_keywords=3, num_keysents=2, min_count=3, max_length=2)\n",
        "sents"
      ],
      "metadata": {
        "colab": {
          "base_uri": "https://localhost:8080/"
        },
        "id": "GKLRWVeOgXUW",
        "outputId": "4a644610-d9ff-48c4-8a21-5c0ca44040bd"
      },
      "execution_count": null,
      "outputs": [
        {
          "output_type": "execute_result",
          "data": {
            "text/plain": [
              "['비 오는 날의 여유로 움과 함께 하루를 마무리할 때, 새로운 일들에 도전하고 배운 것 들을 소중히 여기며 보람 찬 하루를 보낸 것 같다.',\n",
              " '아침부터 저녁까지 공부에 많은 시간을 할애했고, 다양한 주제에 대해 공부하면서 새로운 지식을 얻었다.']"
            ]
          },
          "metadata": {},
          "execution_count": 38
        }
      ]
    },
    {
      "cell_type": "code",
      "source": [
        "from krwordrank.sentence import summarize_with_sentences\n",
        "from konlpy.tag import Kkma\n",
        "\n",
        "kkma = Kkma()\n",
        "\n",
        "def summarize_text(text):\n",
        "  try:\n",
        "    texts = kkma.sentences(text)\n",
        "    sentences_count = len(texts)\n",
        "    min_count = 5\n",
        "    num_keysents = 3\n",
        "\n",
        "    if sentences_count < 16:\n",
        "      min_count = 1\n",
        "      num_keysents = 1\n",
        "    elif sentences_count < 31:\n",
        "      min_count = 2\n",
        "    elif sentences_count < 46:\n",
        "      min_count = 3\n",
        "    elif sentences_count < 61:\n",
        "      min_count = 4\n",
        "\n",
        "    keywords, sents = summarize_with_sentences(texts, min_count=min_count, num_keysents=num_keysents)\n",
        "    return sents\n",
        "\n",
        "  except Exception as e:\n",
        "    print(f\"Error: {e}\")\n",
        "    return None\n",
        "\n",
        "text = \"오늘은 카페에 가서 알바를 했어!\"\n",
        "\n",
        "# summarize_text 함수 호출\n",
        "result = summarize_text(text)\n",
        "\n",
        "# 결과 출력\n",
        "if result is not None:\n",
        "    print(result)\n",
        "else:\n",
        "    print(\"요약에 실패하였습니다.\")\n"
      ],
      "metadata": {
        "id": "lLmHqLw5xg6W",
        "colab": {
          "base_uri": "https://localhost:8080/"
        },
        "outputId": "27057410-26a3-4fba-98c5-dc41a9c12220"
      },
      "execution_count": null,
      "outputs": [
        {
          "output_type": "stream",
          "name": "stdout",
          "text": [
            "['오늘은 카페에 가서 알바를 했어!']\n"
          ]
        }
      ]
    }
  ]
}